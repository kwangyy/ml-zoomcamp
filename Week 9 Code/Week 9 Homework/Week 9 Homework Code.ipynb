{
 "cells": [
  {
   "cell_type": "code",
   "execution_count": 1,
   "id": "82a06406",
   "metadata": {},
   "outputs": [],
   "source": [
    "import tensorflow as tf \n",
    "from tensorflow import keras"
   ]
  },
  {
   "cell_type": "code",
   "execution_count": 2,
   "id": "45c4f012",
   "metadata": {},
   "outputs": [],
   "source": [
    "model = keras.models.load_model('dogs_cats_10_0.687.h5')"
   ]
  },
  {
   "cell_type": "code",
   "execution_count": 3,
   "id": "aceb8e70",
   "metadata": {},
   "outputs": [
    {
     "name": "stdout",
     "output_type": "stream",
     "text": [
      "INFO:tensorflow:Assets written to: C:\\Users\\User\\AppData\\Local\\Temp\\tmp3kf0fwdc\\assets\n"
     ]
    }
   ],
   "source": [
    "converter = tf.lite.TFLiteConverter.from_keras_model(model)\n",
    "\n",
    "tflite_model = converter.convert()\n",
    "\n",
    "with open('dogs_cats_10_0.687.tflite', 'wb') as f_out:\n",
    "    f_out.write(tflite_model)"
   ]
  },
  {
   "cell_type": "code",
   "execution_count": 4,
   "id": "3e546451",
   "metadata": {},
   "outputs": [
    {
     "data": {
      "text/plain": [
       "42.787506103515625"
      ]
     },
     "execution_count": 4,
     "metadata": {},
     "output_type": "execute_result"
    }
   ],
   "source": [
    "import os \n",
    "size = os.path.getsize('dogs_cats_10_0.687.tflite')\n",
    "\n",
    "# Since this is in bytesm, we will have to convert it to MB \n",
    "size = size / 1024 # this is KB \n",
    "size = size / 1024 # this is MB\n",
    "size"
   ]
  },
  {
   "cell_type": "markdown",
   "id": "e89e6d74",
   "metadata": {},
   "source": [
    "### Answer to question 3: 43MB "
   ]
  },
  {
   "cell_type": "code",
   "execution_count": 5,
   "id": "efc6ff30",
   "metadata": {},
   "outputs": [],
   "source": [
    "import tensorflow.lite as tflite"
   ]
  },
  {
   "cell_type": "code",
   "execution_count": 6,
   "id": "d0e44ec6",
   "metadata": {},
   "outputs": [
    {
     "data": {
      "text/plain": [
       "13"
      ]
     },
     "execution_count": 6,
     "metadata": {},
     "output_type": "execute_result"
    }
   ],
   "source": [
    "interpreter = tflite.Interpreter(model_path = 'dogs_cats_10_0.687.tflite')\n",
    "interpreter.allocate_tensors()\n",
    "\n",
    "input_index = interpreter.get_input_details()[0]['index']\n",
    "output_index = interpreter.get_output_details()[0]['index']\n",
    "output_index"
   ]
  },
  {
   "cell_type": "markdown",
   "id": "c303b86a",
   "metadata": {},
   "source": [
    "### Question 2 Answer: 13"
   ]
  },
  {
   "cell_type": "code",
   "execution_count": 7,
   "id": "b6d6f4b8",
   "metadata": {},
   "outputs": [],
   "source": [
    "from io import BytesIO\n",
    "from urllib import request\n",
    "\n",
    "from PIL import Image\n",
    "\n",
    "def download_image(url):\n",
    "    with request.urlopen(url) as resp:\n",
    "        buffer = resp.read()\n",
    "    stream = BytesIO(buffer)\n",
    "    img = Image.open(stream)\n",
    "    return img\n",
    "\n",
    "\n",
    "def prepare_image(img, target_size):\n",
    "    if img.mode != 'RGB':\n",
    "        img = img.convert('RGB')\n",
    "    img = img.resize(target_size, Image.NEAREST)\n",
    "    return img"
   ]
  },
  {
   "cell_type": "code",
   "execution_count": 32,
   "id": "f2822465",
   "metadata": {},
   "outputs": [],
   "source": [
    "image = download_image('https://upload.wikimedia.org/wikipedia/commons/9/9a/Pug_600.jpg')\n",
    "image = prepare_image(image, target_size = (150,150))"
   ]
  },
  {
   "cell_type": "code",
   "execution_count": 9,
   "id": "e24a6e31",
   "metadata": {},
   "outputs": [],
   "source": [
    "import numpy as np"
   ]
  },
  {
   "cell_type": "code",
   "execution_count": 10,
   "id": "d1d0cdb9",
   "metadata": {},
   "outputs": [],
   "source": [
    "def preprocess_input(x):\n",
    "    x /= 255\n",
    "    return x "
   ]
  },
  {
   "cell_type": "code",
   "execution_count": 11,
   "id": "ef3b047c",
   "metadata": {},
   "outputs": [
    {
     "data": {
      "text/plain": [
       "0.7058824"
      ]
     },
     "execution_count": 11,
     "metadata": {},
     "output_type": "execute_result"
    }
   ],
   "source": [
    "# Turn image into numpy array, and preprocess it. \n",
    "x = np.array(image, dtype = 'float32')\n",
    "X = np.array([x])\n",
    "\n",
    "X = preprocess_input(X)\n",
    "\n",
    "# First [0] to unpack the tensor, then subsequent zeroes for the first pixel, first RGB values, and R value. \n",
    "X[0][0][0][0]"
   ]
  },
  {
   "cell_type": "markdown",
   "id": "7aaecf0f",
   "metadata": {},
   "source": [
    "### Answer to question 3: 0.7058824"
   ]
  },
  {
   "cell_type": "code",
   "execution_count": 12,
   "id": "239f33c9",
   "metadata": {},
   "outputs": [],
   "source": [
    "interpreter.set_tensor(input_index, X)\n",
    "interpreter.invoke()\n",
    "preds = interpreter.get_tensor(output_index)"
   ]
  },
  {
   "cell_type": "code",
   "execution_count": 18,
   "id": "cd81ee6a",
   "metadata": {
    "scrolled": true
   },
   "outputs": [
    {
     "data": {
      "text/plain": [
       "0.77049035"
      ]
     },
     "execution_count": 18,
     "metadata": {},
     "output_type": "execute_result"
    }
   ],
   "source": [
    "preds[0][0]"
   ]
  },
  {
   "cell_type": "markdown",
   "id": "15a13dd0",
   "metadata": {},
   "source": [
    "Question 4's code is in the lambda_function.py file.\n"
   ]
  }
 ],
 "metadata": {
  "kernelspec": {
   "display_name": "Python 3 (ipykernel)",
   "language": "python",
   "name": "python3"
  },
  "language_info": {
   "codemirror_mode": {
    "name": "ipython",
    "version": 3
   },
   "file_extension": ".py",
   "mimetype": "text/x-python",
   "name": "python",
   "nbconvert_exporter": "python",
   "pygments_lexer": "ipython3",
   "version": "3.8.10"
  }
 },
 "nbformat": 4,
 "nbformat_minor": 5
}
