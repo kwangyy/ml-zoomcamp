{
 "cells": [
  {
   "cell_type": "code",
   "execution_count": 61,
   "id": "c1b03198",
   "metadata": {},
   "outputs": [],
   "source": [
    "import numpy as np \n",
    "import matplotlib.pyplot as plt\n",
    "import tensorflow as tf \n",
    "from tensorflow import keras \n",
    "\n",
    "%matplotlib inline"
   ]
  },
  {
   "cell_type": "markdown",
   "id": "611e48ad",
   "metadata": {},
   "source": [
    "Answer to question 1: Binary Cross Entropy since it is a binary classification problem (and not a multi classification problem)"
   ]
  },
  {
   "cell_type": "code",
   "execution_count": 62,
   "id": "b60a5a14",
   "metadata": {},
   "outputs": [],
   "source": [
    "model = keras.Sequential()\n",
    "model.add(keras.Input(shape=(150,150,3)))\n",
    "model.add(keras.layers.Conv2D(32, (3,3), activation = 'relu'))\n",
    "model.add(keras.layers.MaxPooling2D(pool_size = (2,2)))\n",
    "model.add(keras.layers.Flatten())\n",
    "model.add(keras.layers.Dense(64, activation = 'relu'))\n",
    "model.add(keras.layers.Dense(1, activation = 'sigmoid'))\n",
    "\n",
    "optimizer = keras.optimizers.SGD(learning_rate = 0.002, momentum = 0.8)\n",
    "\n",
    "loss = keras.losses.BinaryCrossentropy()\n",
    "\n",
    "model.compile(optimizer = optimizer,\n",
    "             loss = loss,\n",
    "             metrics = ['accuracy'])"
   ]
  },
  {
   "cell_type": "code",
   "execution_count": 63,
   "id": "73fa23f6",
   "metadata": {
    "scrolled": true
   },
   "outputs": [
    {
     "name": "stdout",
     "output_type": "stream",
     "text": [
      "Model: \"sequential_7\"\n",
      "_________________________________________________________________\n",
      "Layer (type)                 Output Shape              Param #   \n",
      "=================================================================\n",
      "conv2d_7 (Conv2D)            (None, 148, 148, 32)      896       \n",
      "_________________________________________________________________\n",
      "max_pooling2d_7 (MaxPooling2 (None, 74, 74, 32)        0         \n",
      "_________________________________________________________________\n",
      "flatten_7 (Flatten)          (None, 175232)            0         \n",
      "_________________________________________________________________\n",
      "dense_13 (Dense)             (None, 64)                11214912  \n",
      "_________________________________________________________________\n",
      "dense_14 (Dense)             (None, 1)                 65        \n",
      "=================================================================\n",
      "Total params: 11,215,873\n",
      "Trainable params: 11,215,873\n",
      "Non-trainable params: 0\n",
      "_________________________________________________________________\n"
     ]
    }
   ],
   "source": [
    "model.summary()"
   ]
  },
  {
   "cell_type": "markdown",
   "id": "376784ae",
   "metadata": {},
   "source": [
    "Answer for question 2: Total parameters = 11,215,873"
   ]
  },
  {
   "cell_type": "code",
   "execution_count": 64,
   "id": "2fbcb03c",
   "metadata": {},
   "outputs": [
    {
     "name": "stdout",
     "output_type": "stream",
     "text": [
      "Found 20000 images belonging to 2 classes.\n"
     ]
    }
   ],
   "source": [
    "from tensorflow.keras.preprocessing.image import ImageDataGenerator\n",
    "\n",
    "train_generator = ImageDataGenerator(rescale=1./255)\n",
    "\n",
    "train_ds = train_generator.flow_from_directory('./data/train', target_size = (150,150), class_mode = 'binary', batch_size = 20)"
   ]
  },
  {
   "cell_type": "code",
   "execution_count": 65,
   "id": "766dace0",
   "metadata": {},
   "outputs": [
    {
     "name": "stdout",
     "output_type": "stream",
     "text": [
      "Found 5000 images belonging to 2 classes.\n"
     ]
    }
   ],
   "source": [
    "val_generator = ImageDataGenerator(rescale=1./255)\n",
    "\n",
    "val_ds = val_generator.flow_from_directory('./data/validation', target_size = (150,150), class_mode = 'binary', batch_size = 20)"
   ]
  },
  {
   "cell_type": "code",
   "execution_count": 66,
   "id": "0c6fa692",
   "metadata": {},
   "outputs": [
    {
     "name": "stdout",
     "output_type": "stream",
     "text": [
      "Epoch 1/10\n",
      "100/100 [==============================] - 15s 150ms/step - loss: 0.6965 - accuracy: 0.5030 - val_loss: 0.6934 - val_accuracy: 0.4830\n",
      "Epoch 2/10\n",
      "100/100 [==============================] - 15s 146ms/step - loss: 0.6934 - accuracy: 0.5085 - val_loss: 0.6929 - val_accuracy: 0.4960\n",
      "Epoch 3/10\n",
      "100/100 [==============================] - 15s 145ms/step - loss: 0.6924 - accuracy: 0.5155 - val_loss: 0.6919 - val_accuracy: 0.5410\n",
      "Epoch 4/10\n",
      "100/100 [==============================] - 15s 147ms/step - loss: 0.6909 - accuracy: 0.5395 - val_loss: 0.6911 - val_accuracy: 0.5080\n",
      "Epoch 5/10\n",
      "100/100 [==============================] - 15s 151ms/step - loss: 0.6900 - accuracy: 0.5365 - val_loss: 0.6900 - val_accuracy: 0.5350\n",
      "Epoch 6/10\n",
      "100/100 [==============================] - 15s 146ms/step - loss: 0.6882 - accuracy: 0.5425 - val_loss: 0.6893 - val_accuracy: 0.5270\n",
      "Epoch 7/10\n",
      "100/100 [==============================] - 15s 150ms/step - loss: 0.6821 - accuracy: 0.5645 - val_loss: 0.6784 - val_accuracy: 0.5830\n",
      "Epoch 8/10\n",
      "100/100 [==============================] - 15s 153ms/step - loss: 0.6767 - accuracy: 0.5800 - val_loss: 0.6782 - val_accuracy: 0.5700\n",
      "Epoch 9/10\n",
      "100/100 [==============================] - 16s 163ms/step - loss: 0.6716 - accuracy: 0.5930 - val_loss: 0.6715 - val_accuracy: 0.5740\n",
      "Epoch 10/10\n",
      "100/100 [==============================] - 15s 153ms/step - loss: 0.6679 - accuracy: 0.6020 - val_loss: 0.6620 - val_accuracy: 0.5970\n"
     ]
    }
   ],
   "source": [
    "history = model.fit(\n",
    "    train_ds,\n",
    "    steps_per_epoch=100,\n",
    "    epochs=10,\n",
    "    validation_data=val_ds,\n",
    "    validation_steps=50\n",
    ")\n"
   ]
  },
  {
   "cell_type": "code",
   "execution_count": 72,
   "id": "7004cdee",
   "metadata": {},
   "outputs": [
    {
     "data": {
      "text/plain": [
       "0.5410000085830688"
      ]
     },
     "execution_count": 72,
     "metadata": {},
     "output_type": "execute_result"
    }
   ],
   "source": [
    "import pandas as pd\n",
    "\n",
    "accuracy = pd.Series(history.history['accuracy'])\n",
    "accuracy.median()"
   ]
  },
  {
   "cell_type": "markdown",
   "id": "c998a2a9",
   "metadata": {},
   "source": [
    "Since deep learning varies by a bit, the closest answer is 0.56\n",
    "\n",
    "Question 3 answer: 0.56 "
   ]
  },
  {
   "cell_type": "code",
   "execution_count": 81,
   "id": "278a48d0",
   "metadata": {},
   "outputs": [
    {
     "data": {
      "text/plain": [
       "0.009865246897716782"
      ]
     },
     "execution_count": 81,
     "metadata": {},
     "output_type": "execute_result"
    }
   ],
   "source": [
    "train_loss = pd.Series(history.history['loss'])\n",
    "train_loss.std()"
   ]
  },
  {
   "cell_type": "markdown",
   "id": "ff4af55e",
   "metadata": {},
   "source": [
    "As mentioned, deep learning varies by a bit, therefore the closest answer is 0.01 \n",
    "\n",
    "Question 4 answer: 0.01 "
   ]
  },
  {
   "cell_type": "code",
   "execution_count": 82,
   "id": "77c4a472",
   "metadata": {},
   "outputs": [
    {
     "name": "stdout",
     "output_type": "stream",
     "text": [
      "Found 20000 images belonging to 2 classes.\n"
     ]
    }
   ],
   "source": [
    "# Adding Data Augments \n",
    "train_generator = ImageDataGenerator(\n",
    "    rescale=1./255,\n",
    "    rotation_range = 40,\n",
    "    width_shift_range = 0.2,\n",
    "    height_shift_range = 0.2, \n",
    "    shear_range = 0.2,\n",
    "    zoom_range = 0.2,\n",
    "    horizontal_flip = True,\n",
    "    fill_mode = 'nearest'\n",
    ")\n",
    "\n",
    "train_ds = train_generator.flow_from_directory('./data/train', target_size = (150,150), class_mode = 'binary', batch_size = 20)"
   ]
  },
  {
   "cell_type": "code",
   "execution_count": 87,
   "id": "00ad3c97",
   "metadata": {},
   "outputs": [
    {
     "name": "stdout",
     "output_type": "stream",
     "text": [
      "Found 5000 images belonging to 2 classes.\n"
     ]
    }
   ],
   "source": [
    "val_generator = ImageDataGenerator(\n",
    "    rescale=1./255,\n",
    "    rotation_range = 40,\n",
    "    width_shift_range = 0.2,\n",
    "    height_shift_range = 0.2, \n",
    "    shear_range = 0.2,\n",
    "    zoom_range = 0.2,\n",
    "    horizontal_flip = True,\n",
    "    fill_mode = 'nearest'\n",
    ")\n",
    "\n",
    "val_ds = val_generator.flow_from_directory('./data/validation', target_size = (150,150), class_mode = 'binary', batch_size = 20)"
   ]
  },
  {
   "cell_type": "code",
   "execution_count": 88,
   "id": "6f2d74f7",
   "metadata": {},
   "outputs": [
    {
     "name": "stdout",
     "output_type": "stream",
     "text": [
      "Epoch 1/10\n",
      "100/100 [==============================] - 24s 241ms/step - loss: 0.6795 - accuracy: 0.5725 - val_loss: 0.6904 - val_accuracy: 0.5180\n",
      "Epoch 2/10\n",
      "100/100 [==============================] - 25s 250ms/step - loss: 0.6757 - accuracy: 0.5760 - val_loss: 0.6806 - val_accuracy: 0.5490\n",
      "Epoch 3/10\n",
      "100/100 [==============================] - 25s 246ms/step - loss: 0.6757 - accuracy: 0.5820 - val_loss: 0.6656 - val_accuracy: 0.5980\n",
      "Epoch 4/10\n",
      "100/100 [==============================] - 25s 249ms/step - loss: 0.6739 - accuracy: 0.5715 - val_loss: 0.6715 - val_accuracy: 0.5940\n",
      "Epoch 5/10\n",
      "100/100 [==============================] - 26s 257ms/step - loss: 0.6772 - accuracy: 0.5800 - val_loss: 0.6735 - val_accuracy: 0.5690\n",
      "Epoch 6/10\n",
      "100/100 [==============================] - 26s 263ms/step - loss: 0.6729 - accuracy: 0.5885 - val_loss: 0.6642 - val_accuracy: 0.6090\n",
      "Epoch 7/10\n",
      "100/100 [==============================] - 25s 251ms/step - loss: 0.6724 - accuracy: 0.5745 - val_loss: 0.6583 - val_accuracy: 0.6390\n",
      "Epoch 8/10\n",
      "100/100 [==============================] - 24s 241ms/step - loss: 0.6695 - accuracy: 0.5810 - val_loss: 0.6636 - val_accuracy: 0.6070\n",
      "Epoch 9/10\n",
      "100/100 [==============================] - 25s 251ms/step - loss: 0.6632 - accuracy: 0.5950 - val_loss: 0.6676 - val_accuracy: 0.5770\n",
      "Epoch 10/10\n",
      "100/100 [==============================] - 25s 253ms/step - loss: 0.6730 - accuracy: 0.5745 - val_loss: 0.6658 - val_accuracy: 0.5990\n"
     ]
    }
   ],
   "source": [
    "history = model.fit(\n",
    "    train_ds,\n",
    "    steps_per_epoch=100,\n",
    "    epochs=10,\n",
    "    validation_data=val_ds,\n",
    "    validation_steps=50\n",
    ")"
   ]
  },
  {
   "cell_type": "code",
   "execution_count": 90,
   "id": "d82681f1",
   "metadata": {},
   "outputs": [
    {
     "data": {
      "text/plain": [
       "0.6701011538505555"
      ]
     },
     "execution_count": 90,
     "metadata": {},
     "output_type": "execute_result"
    }
   ],
   "source": [
    "val_loss = pd.Series(history.history['val_loss'])\n",
    "val_loss.mean()"
   ]
  },
  {
   "cell_type": "markdown",
   "id": "e23902ce",
   "metadata": {},
   "source": [
    "Answer for question 5: 0.67 "
   ]
  },
  {
   "cell_type": "code",
   "execution_count": 103,
   "id": "c2942d2f",
   "metadata": {},
   "outputs": [
    {
     "data": {
      "text/plain": [
       "0.6062000036239624"
      ]
     },
     "execution_count": 103,
     "metadata": {},
     "output_type": "execute_result"
    }
   ],
   "source": [
    "val_accuracy = pd.Series(history.history['val_accuracy'][5:])\n",
    "val_accuracy.mean()"
   ]
  },
  {
   "cell_type": "markdown",
   "id": "ce0118cb",
   "metadata": {},
   "source": [
    "Closest answer is 0.65 \n",
    "\n",
    "Answer for question 6: 0.65 "
   ]
  }
 ],
 "metadata": {
  "kernelspec": {
   "display_name": "Python 3 (ipykernel)",
   "language": "python",
   "name": "python3"
  },
  "language_info": {
   "codemirror_mode": {
    "name": "ipython",
    "version": 3
   },
   "file_extension": ".py",
   "mimetype": "text/x-python",
   "name": "python",
   "nbconvert_exporter": "python",
   "pygments_lexer": "ipython3",
   "version": "3.8.10"
  }
 },
 "nbformat": 4,
 "nbformat_minor": 5
}
